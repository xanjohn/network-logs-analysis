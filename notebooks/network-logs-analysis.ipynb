{
 "cells": [
  {
   "cell_type": "markdown",
   "id": "2f5813d7-7de0-4ef4-b973-ea4f8d6df886",
   "metadata": {},
   "source": [
    "# Network Log Analysis using Wireshark Data\n",
    "\n",
    "This notebook analyzes TCP/HTTP logs from Wireshark to identify traffic patterns, HTTP errors, and possible anomalies.\n",
    "\n",
    "**Objective:**  \n",
    "- Understand network activity based on TCP and HTTP logs.  \n",
    "- Identify any abnormal response codes or irregular traffic behavior.  \n",
    "- Demonstrate cybersecurity analysis workflow using Python and pandas.\n"
   ]
  },
  {
   "cell_type": "code",
   "execution_count": 13,
   "id": "b6885688-ed2a-4ba7-853a-8e4c65544a8f",
   "metadata": {},
   "outputs": [],
   "source": [
    "# Import Library that will we use\n",
    "import pandas as pd\n",
    "import numpy as np\n",
    "import matplotlib.pyplot as plt"
   ]
  },
  {
   "cell_type": "code",
   "execution_count": 14,
   "id": "4596f5ea-05e3-4cae-a670-076882106f31",
   "metadata": {},
   "outputs": [
    {
     "data": {
      "text/html": [
       "<div>\n",
       "<style scoped>\n",
       "    .dataframe tbody tr th:only-of-type {\n",
       "        vertical-align: middle;\n",
       "    }\n",
       "\n",
       "    .dataframe tbody tr th {\n",
       "        vertical-align: top;\n",
       "    }\n",
       "\n",
       "    .dataframe thead th {\n",
       "        text-align: right;\n",
       "    }\n",
       "</style>\n",
       "<table border=\"1\" class=\"dataframe\">\n",
       "  <thead>\n",
       "    <tr style=\"text-align: right;\">\n",
       "      <th></th>\n",
       "      <th>No.</th>\n",
       "      <th>Time</th>\n",
       "      <th>Source</th>\n",
       "      <th>Destination</th>\n",
       "      <th>Protocol</th>\n",
       "      <th>Info</th>\n",
       "    </tr>\n",
       "  </thead>\n",
       "  <tbody>\n",
       "    <tr>\n",
       "      <th>0</th>\n",
       "      <td>47</td>\n",
       "      <td>3.144521</td>\n",
       "      <td>198.51.100.23</td>\n",
       "      <td>192.0.2.1</td>\n",
       "      <td>TCP</td>\n",
       "      <td>42584-&gt;443 [SYN] Seq=0 Win-5792 Len=120...</td>\n",
       "    </tr>\n",
       "    <tr>\n",
       "      <th>1</th>\n",
       "      <td>48</td>\n",
       "      <td>3.195755</td>\n",
       "      <td>192.0.2.1</td>\n",
       "      <td>198.51.100.23</td>\n",
       "      <td>TCP</td>\n",
       "      <td>443-&gt;42584 [SYN, ACK] Seq=0 Win-5792 Len=120...</td>\n",
       "    </tr>\n",
       "    <tr>\n",
       "      <th>2</th>\n",
       "      <td>49</td>\n",
       "      <td>3.246989</td>\n",
       "      <td>198.51.100.23</td>\n",
       "      <td>192.0.2.1</td>\n",
       "      <td>TCP</td>\n",
       "      <td>42584-&gt;443 [ACK] Seq=1 Win-5792 Len=120...</td>\n",
       "    </tr>\n",
       "    <tr>\n",
       "      <th>3</th>\n",
       "      <td>50</td>\n",
       "      <td>3.298223</td>\n",
       "      <td>198.51.100.23</td>\n",
       "      <td>192.0.2.1</td>\n",
       "      <td>HTTP</td>\n",
       "      <td>GET  /sales.html HTTP/1.1</td>\n",
       "    </tr>\n",
       "    <tr>\n",
       "      <th>4</th>\n",
       "      <td>51</td>\n",
       "      <td>3.349457</td>\n",
       "      <td>192.0.2.1</td>\n",
       "      <td>198.51.100.23</td>\n",
       "      <td>HTTP</td>\n",
       "      <td>HTTP/1.1 200 OK (text/html)</td>\n",
       "    </tr>\n",
       "  </tbody>\n",
       "</table>\n",
       "</div>"
      ],
      "text/plain": [
       "   No.      Time         Source   Destination  Protocol  \\\n",
       "0   47  3.144521  198.51.100.23      192.0.2.1      TCP   \n",
       "1   48  3.195755      192.0.2.1  198.51.100.23      TCP   \n",
       "2   49  3.246989  198.51.100.23      192.0.2.1      TCP   \n",
       "3   50  3.298223  198.51.100.23      192.0.2.1    HTTP    \n",
       "4   51  3.349457      192.0.2.1  198.51.100.23    HTTP    \n",
       "\n",
       "                                              Info  \n",
       "0       42584->443 [SYN] Seq=0 Win-5792 Len=120...  \n",
       "1  443->42584 [SYN, ACK] Seq=0 Win-5792 Len=120...  \n",
       "2       42584->443 [ACK] Seq=1 Win-5792 Len=120...  \n",
       "3                        GET  /sales.html HTTP/1.1  \n",
       "4                      HTTP/1.1 200 OK (text/html)  "
      ]
     },
     "execution_count": 14,
     "metadata": {},
     "output_type": "execute_result"
    }
   ],
   "source": [
    "# Read logs data\n",
    "data_path = '../data/Wireshark TCP_HTTP log.xlsx'\n",
    "df = pd.read_excel(data_path)\n",
    "df.head()"
   ]
  },
  {
   "cell_type": "code",
   "execution_count": 15,
   "id": "fd96416e-deba-4263-b558-27730b81e46c",
   "metadata": {},
   "outputs": [
    {
     "name": "stdout",
     "output_type": "stream",
     "text": [
      "<class 'pandas.core.frame.DataFrame'>\n",
      "RangeIndex: 174 entries, 0 to 173\n",
      "Data columns (total 6 columns):\n",
      " #   Column        Non-Null Count  Dtype  \n",
      "---  ------        --------------  -----  \n",
      " 0   No.           174 non-null    int64  \n",
      " 1   Time          174 non-null    float64\n",
      " 2   Source        174 non-null    object \n",
      " 3   Destination   174 non-null    object \n",
      " 4   Protocol      174 non-null    object \n",
      " 5   Info          174 non-null    object \n",
      "dtypes: float64(1), int64(1), object(4)\n",
      "memory usage: 8.3+ KB\n"
     ]
    }
   ],
   "source": [
    "#perform EDA\n",
    "df.info()"
   ]
  },
  {
   "cell_type": "code",
   "execution_count": 16,
   "id": "57422ea9-ceca-41c0-887a-152a10c35a29",
   "metadata": {},
   "outputs": [
    {
     "data": {
      "text/html": [
       "<div>\n",
       "<style scoped>\n",
       "    .dataframe tbody tr th:only-of-type {\n",
       "        vertical-align: middle;\n",
       "    }\n",
       "\n",
       "    .dataframe tbody tr th {\n",
       "        vertical-align: top;\n",
       "    }\n",
       "\n",
       "    .dataframe thead th {\n",
       "        text-align: right;\n",
       "    }\n",
       "</style>\n",
       "<table border=\"1\" class=\"dataframe\">\n",
       "  <thead>\n",
       "    <tr style=\"text-align: right;\">\n",
       "      <th></th>\n",
       "      <th>No.</th>\n",
       "      <th>Time</th>\n",
       "    </tr>\n",
       "  </thead>\n",
       "  <tbody>\n",
       "    <tr>\n",
       "      <th>count</th>\n",
       "      <td>174.000000</td>\n",
       "      <td>174.000000</td>\n",
       "    </tr>\n",
       "    <tr>\n",
       "      <th>mean</th>\n",
       "      <td>133.379310</td>\n",
       "      <td>24.950776</td>\n",
       "    </tr>\n",
       "    <tr>\n",
       "      <th>std</th>\n",
       "      <td>50.173858</td>\n",
       "      <td>15.043665</td>\n",
       "    </tr>\n",
       "    <tr>\n",
       "      <th>min</th>\n",
       "      <td>47.000000</td>\n",
       "      <td>3.144521</td>\n",
       "    </tr>\n",
       "    <tr>\n",
       "      <th>25%</th>\n",
       "      <td>90.250000</td>\n",
       "      <td>13.925798</td>\n",
       "    </tr>\n",
       "    <tr>\n",
       "      <th>50%</th>\n",
       "      <td>133.500000</td>\n",
       "      <td>23.882393</td>\n",
       "    </tr>\n",
       "    <tr>\n",
       "      <th>75%</th>\n",
       "      <td>176.750000</td>\n",
       "      <td>37.852706</td>\n",
       "    </tr>\n",
       "    <tr>\n",
       "      <th>max</th>\n",
       "      <td>214.000000</td>\n",
       "      <td>51.823018</td>\n",
       "    </tr>\n",
       "  </tbody>\n",
       "</table>\n",
       "</div>"
      ],
      "text/plain": [
       "              No.        Time\n",
       "count  174.000000  174.000000\n",
       "mean   133.379310   24.950776\n",
       "std     50.173858   15.043665\n",
       "min     47.000000    3.144521\n",
       "25%     90.250000   13.925798\n",
       "50%    133.500000   23.882393\n",
       "75%    176.750000   37.852706\n",
       "max    214.000000   51.823018"
      ]
     },
     "execution_count": 16,
     "metadata": {},
     "output_type": "execute_result"
    }
   ],
   "source": [
    "df.describe()"
   ]
  },
  {
   "cell_type": "code",
   "execution_count": null,
   "id": "552ef7af-ca53-465f-87bd-96c7de4469b8",
   "metadata": {},
   "outputs": [],
   "source": []
  }
 ],
 "metadata": {
  "kernelspec": {
   "display_name": "Python 3 (ipykernel)",
   "language": "python",
   "name": "python3"
  },
  "language_info": {
   "codemirror_mode": {
    "name": "ipython",
    "version": 3
   },
   "file_extension": ".py",
   "mimetype": "text/x-python",
   "name": "python",
   "nbconvert_exporter": "python",
   "pygments_lexer": "ipython3",
   "version": "3.13.7"
  }
 },
 "nbformat": 4,
 "nbformat_minor": 5
}
